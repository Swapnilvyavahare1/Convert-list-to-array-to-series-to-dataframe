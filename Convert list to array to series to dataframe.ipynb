{
 "cells": [
  {
   "cell_type": "markdown",
   "id": "d42f8285",
   "metadata": {},
   "source": [
    "# Convert list to array to series to dataframe"
   ]
  },
  {
   "cell_type": "code",
   "execution_count": 19,
   "id": "0ce27aaf",
   "metadata": {},
   "outputs": [
    {
     "name": "stdout",
     "output_type": "stream",
     "text": [
      "[34, 30, 6]\n",
      "['Swapnil', 'Pooja', 'Gargi']\n",
      "..................................................\n",
      "[34 30  6]\n",
      "['Swapnil' 'Pooja' 'Gargi']\n",
      "..................................................\n",
      "0    34\n",
      "1    30\n",
      "2     6\n",
      "dtype: int32\n",
      "0    Swapnil\n",
      "1      Pooja\n",
      "2      Gargi\n",
      "dtype: object\n",
      "..................................................\n"
     ]
    },
    {
     "data": {
      "text/html": [
       "<div>\n",
       "<style scoped>\n",
       "    .dataframe tbody tr th:only-of-type {\n",
       "        vertical-align: middle;\n",
       "    }\n",
       "\n",
       "    .dataframe tbody tr th {\n",
       "        vertical-align: top;\n",
       "    }\n",
       "\n",
       "    .dataframe thead th {\n",
       "        text-align: right;\n",
       "    }\n",
       "</style>\n",
       "<table border=\"1\" class=\"dataframe\">\n",
       "  <thead>\n",
       "    <tr style=\"text-align: right;\">\n",
       "      <th></th>\n",
       "      <th>Age</th>\n",
       "      <th>Name</th>\n",
       "    </tr>\n",
       "  </thead>\n",
       "  <tbody>\n",
       "    <tr>\n",
       "      <th>0</th>\n",
       "      <td>34</td>\n",
       "      <td>Swapnil</td>\n",
       "    </tr>\n",
       "    <tr>\n",
       "      <th>1</th>\n",
       "      <td>30</td>\n",
       "      <td>Pooja</td>\n",
       "    </tr>\n",
       "    <tr>\n",
       "      <th>2</th>\n",
       "      <td>6</td>\n",
       "      <td>Gargi</td>\n",
       "    </tr>\n",
       "  </tbody>\n",
       "</table>\n",
       "</div>"
      ],
      "text/plain": [
       "   Age     Name\n",
       "0   34  Swapnil\n",
       "1   30    Pooja\n",
       "2    6    Gargi"
      ]
     },
     "execution_count": 19,
     "metadata": {},
     "output_type": "execute_result"
    }
   ],
   "source": [
    "import numpy as np\n",
    "import pandas as pd\n",
    "\n",
    "Age= [34, 30, 6]\n",
    "Name= ['Swapnil', 'Pooja', 'Gargi']\n",
    "\n",
    "print(Age)\n",
    "print(Name)\n",
    "\n",
    "\n",
    "print('..................................................')\n",
    "age_array= np.array(Age)\n",
    "name_array= np.array(Name)\n",
    "\n",
    "print(age_array)\n",
    "print(name_array)\n",
    "\n",
    "\n",
    "print('..................................................')\n",
    "\n",
    "age_series= pd.Series(age_array)\n",
    "name_series= pd.Series(name_array)\n",
    "\n",
    "print(age_series)\n",
    "print(name_series)\n",
    "\n",
    "print('..................................................')\n",
    "\n",
    "df_final= pd.DataFrame()\n",
    "df_final['Age']= age_series\n",
    "df_final['Name']= name_series\n",
    "\n",
    "df_final"
   ]
  }
 ],
 "metadata": {
  "kernelspec": {
   "display_name": "Python 3 (ipykernel)",
   "language": "python",
   "name": "python3"
  },
  "language_info": {
   "codemirror_mode": {
    "name": "ipython",
    "version": 3
   },
   "file_extension": ".py",
   "mimetype": "text/x-python",
   "name": "python",
   "nbconvert_exporter": "python",
   "pygments_lexer": "ipython3",
   "version": "3.9.12"
  }
 },
 "nbformat": 4,
 "nbformat_minor": 5
}
